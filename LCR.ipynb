{
 "cells": [
  {
   "cell_type": "code",
   "execution_count": 4,
   "metadata": {},
   "outputs": [],
   "source": [
    "import numpy as np\n",
    "import matplotlib.pyplot as plt\n",
    "%matplotlib qt"
   ]
  },
  {
   "cell_type": "code",
   "execution_count": 57,
   "metadata": {},
   "outputs": [],
   "source": [
    "f = 19000. #[Hz]\n",
    "omega = 2*np.pi*f\n",
    "V0 = 10. #[V]\n",
    "R = 20. #[Ω]\n",
    "L = 8.0*10**(-3) #[H]\n",
    "C = 100.0*10**(-12) #[pF]"
   ]
  },
  {
   "cell_type": "code",
   "execution_count": 58,
   "metadata": {},
   "outputs": [],
   "source": [
    "def func(x):\n",
    "    return (V0*R/L**2)*(1/(omega**2 + R**2/L**2))*np.sin(omega*x) - (V0/L)*omega*(1/(omega**2 + R**2/L**2))*np.cos(omega*x) + (V0/L)*omega*(1/(omega**2 + R**2/L**2))*np.exp(-R*x/L)\n",
    "    #return (V0*R/L**2)*(1/(omega**2 + R**2/L**2))*np.sin(omega*x)"
   ]
  },
  {
   "cell_type": "code",
   "execution_count": 59,
   "metadata": {},
   "outputs": [],
   "source": [
    "x = np.linspace(0., 30./f, 100000)\n",
    "y = func(x)\n",
    "plt.plot(x, y)\n",
    "plt.show()"
   ]
  },
  {
   "cell_type": "code",
   "execution_count": null,
   "metadata": {},
   "outputs": [],
   "source": []
  },
  {
   "cell_type": "code",
   "execution_count": null,
   "metadata": {},
   "outputs": [],
   "source": []
  }
 ],
 "metadata": {
  "kernelspec": {
   "display_name": "Python 3",
   "language": "python",
   "name": "python3"
  },
  "language_info": {
   "codemirror_mode": {
    "name": "ipython",
    "version": 3
   },
   "file_extension": ".py",
   "mimetype": "text/x-python",
   "name": "python",
   "nbconvert_exporter": "python",
   "pygments_lexer": "ipython3",
   "version": "3.10.6"
  },
  "orig_nbformat": 4
 },
 "nbformat": 4,
 "nbformat_minor": 2
}
