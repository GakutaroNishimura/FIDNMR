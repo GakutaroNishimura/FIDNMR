{
 "cells": [
  {
   "cell_type": "code",
   "execution_count": 6,
   "metadata": {},
   "outputs": [],
   "source": [
    "import pandas as pd\n",
    "import matplotlib.pyplot as plt\n",
    "import numpy as np"
   ]
  },
  {
   "cell_type": "code",
   "execution_count": 15,
   "metadata": {},
   "outputs": [],
   "source": [
    "path = \"./data/scope_274.csv\"\n",
    "df = pd.read_csv(path, names=[\"time\", \"RFsignal\", \"PickUpsignal\", \"sync2\"], skiprows=2, skipfooter=1, engine=\"python\")"
   ]
  },
  {
   "cell_type": "code",
   "execution_count": 16,
   "metadata": {},
   "outputs": [
    {
     "data": {
      "text/plain": [
       "[<matplotlib.lines.Line2D at 0x7ffa9db775b0>]"
      ]
     },
     "execution_count": 16,
     "metadata": {},
     "output_type": "execute_result"
    },
    {
     "data": {
      "image/png": "[encoded data removed]",
      "text/plain": [
       "<Figure size 432x288 with 1 Axes>"
      ]
     },
     "metadata": {
      "needs_background": "light"
     },
     "output_type": "display_data"
    }
   ],
   "source": [
    "plt.plot(df.time, df.PickUpsignal)\n",
    "#plt.xlim(0.001, 0.004)"
   ]
  },
  {
   "cell_type": "code",
   "execution_count": 12,
   "metadata": {},
   "outputs": [
    {
     "data": {
      "text/plain": [
       "19999"
      ]
     },
     "execution_count": 12,
     "metadata": {},
     "output_type": "execute_result"
    }
   ],
   "source": [
    "len(df.time)"
   ]
  },
  {
   "cell_type": "code",
   "execution_count": 23,
   "metadata": {},
   "outputs": [],
   "source": [
    "arr_time = np.array(df.time)\n",
    "arr_signal = np.array(df.PickUpsignal[400:1200])"
   ]
  },
  {
   "cell_type": "code",
   "execution_count": 25,
   "metadata": {},
   "outputs": [
    {
     "data": {
      "text/plain": [
       "array([ 0.     ,  0.00125,  0.0025 ,  0.00375,  0.005  ,  0.00625,\n",
       "        0.0075 ,  0.00875,  0.01   ,  0.01125,  0.0125 ,  0.01375,\n",
       "        0.015  ,  0.01625,  0.0175 ,  0.01875,  0.02   ,  0.02125,\n",
       "        0.0225 ,  0.02375,  0.025  ,  0.02625,  0.0275 ,  0.02875,\n",
       "        0.03   ,  0.03125,  0.0325 ,  0.03375,  0.035  ,  0.03625,\n",
       "        0.0375 ,  0.03875,  0.04   ,  0.04125,  0.0425 ,  0.04375,\n",
       "        0.045  ,  0.04625,  0.0475 ,  0.04875,  0.05   ,  0.05125,\n",
       "        0.0525 ,  0.05375,  0.055  ,  0.05625,  0.0575 ,  0.05875,\n",
       "        0.06   ,  0.06125,  0.0625 ,  0.06375,  0.065  ,  0.06625,\n",
       "        0.0675 ,  0.06875,  0.07   ,  0.07125,  0.0725 ,  0.07375,\n",
       "        0.075  ,  0.07625,  0.0775 ,  0.07875,  0.08   ,  0.08125,\n",
       "        0.0825 ,  0.08375,  0.085  ,  0.08625,  0.0875 ,  0.08875,\n",
       "        0.09   ,  0.09125,  0.0925 ,  0.09375,  0.095  ,  0.09625,\n",
       "        0.0975 ,  0.09875,  0.1    ,  0.10125,  0.1025 ,  0.10375,\n",
       "        0.105  ,  0.10625,  0.1075 ,  0.10875,  0.11   ,  0.11125,\n",
       "        0.1125 ,  0.11375,  0.115  ,  0.11625,  0.1175 ,  0.11875,\n",
       "        0.12   ,  0.12125,  0.1225 ,  0.12375,  0.125  ,  0.12625,\n",
       "        0.1275 ,  0.12875,  0.13   ,  0.13125,  0.1325 ,  0.13375,\n",
       "        0.135  ,  0.13625,  0.1375 ,  0.13875,  0.14   ,  0.14125,\n",
       "        0.1425 ,  0.14375,  0.145  ,  0.14625,  0.1475 ,  0.14875,\n",
       "        0.15   ,  0.15125,  0.1525 ,  0.15375,  0.155  ,  0.15625,\n",
       "        0.1575 ,  0.15875,  0.16   ,  0.16125,  0.1625 ,  0.16375,\n",
       "        0.165  ,  0.16625,  0.1675 ,  0.16875,  0.17   ,  0.17125,\n",
       "        0.1725 ,  0.17375,  0.175  ,  0.17625,  0.1775 ,  0.17875,\n",
       "        0.18   ,  0.18125,  0.1825 ,  0.18375,  0.185  ,  0.18625,\n",
       "        0.1875 ,  0.18875,  0.19   ,  0.19125,  0.1925 ,  0.19375,\n",
       "        0.195  ,  0.19625,  0.1975 ,  0.19875,  0.2    ,  0.20125,\n",
       "        0.2025 ,  0.20375,  0.205  ,  0.20625,  0.2075 ,  0.20875,\n",
       "        0.21   ,  0.21125,  0.2125 ,  0.21375,  0.215  ,  0.21625,\n",
       "        0.2175 ,  0.21875,  0.22   ,  0.22125,  0.2225 ,  0.22375,\n",
       "        0.225  ,  0.22625,  0.2275 ,  0.22875,  0.23   ,  0.23125,\n",
       "        0.2325 ,  0.23375,  0.235  ,  0.23625,  0.2375 ,  0.23875,\n",
       "        0.24   ,  0.24125,  0.2425 ,  0.24375,  0.245  ,  0.24625,\n",
       "        0.2475 ,  0.24875,  0.25   ,  0.25125,  0.2525 ,  0.25375,\n",
       "        0.255  ,  0.25625,  0.2575 ,  0.25875,  0.26   ,  0.26125,\n",
       "        0.2625 ,  0.26375,  0.265  ,  0.26625,  0.2675 ,  0.26875,\n",
       "        0.27   ,  0.27125,  0.2725 ,  0.27375,  0.275  ,  0.27625,\n",
       "        0.2775 ,  0.27875,  0.28   ,  0.28125,  0.2825 ,  0.28375,\n",
       "        0.285  ,  0.28625,  0.2875 ,  0.28875,  0.29   ,  0.29125,\n",
       "        0.2925 ,  0.29375,  0.295  ,  0.29625,  0.2975 ,  0.29875,\n",
       "        0.3    ,  0.30125,  0.3025 ,  0.30375,  0.305  ,  0.30625,\n",
       "        0.3075 ,  0.30875,  0.31   ,  0.31125,  0.3125 ,  0.31375,\n",
       "        0.315  ,  0.31625,  0.3175 ,  0.31875,  0.32   ,  0.32125,\n",
       "        0.3225 ,  0.32375,  0.325  ,  0.32625,  0.3275 ,  0.32875,\n",
       "        0.33   ,  0.33125,  0.3325 ,  0.33375,  0.335  ,  0.33625,\n",
       "        0.3375 ,  0.33875,  0.34   ,  0.34125,  0.3425 ,  0.34375,\n",
       "        0.345  ,  0.34625,  0.3475 ,  0.34875,  0.35   ,  0.35125,\n",
       "        0.3525 ,  0.35375,  0.355  ,  0.35625,  0.3575 ,  0.35875,\n",
       "        0.36   ,  0.36125,  0.3625 ,  0.36375,  0.365  ,  0.36625,\n",
       "        0.3675 ,  0.36875,  0.37   ,  0.37125,  0.3725 ,  0.37375,\n",
       "        0.375  ,  0.37625,  0.3775 ,  0.37875,  0.38   ,  0.38125,\n",
       "        0.3825 ,  0.38375,  0.385  ,  0.38625,  0.3875 ,  0.38875,\n",
       "        0.39   ,  0.39125,  0.3925 ,  0.39375,  0.395  ,  0.39625,\n",
       "        0.3975 ,  0.39875,  0.4    ,  0.40125,  0.4025 ,  0.40375,\n",
       "        0.405  ,  0.40625,  0.4075 ,  0.40875,  0.41   ,  0.41125,\n",
       "        0.4125 ,  0.41375,  0.415  ,  0.41625,  0.4175 ,  0.41875,\n",
       "        0.42   ,  0.42125,  0.4225 ,  0.42375,  0.425  ,  0.42625,\n",
       "        0.4275 ,  0.42875,  0.43   ,  0.43125,  0.4325 ,  0.43375,\n",
       "        0.435  ,  0.43625,  0.4375 ,  0.43875,  0.44   ,  0.44125,\n",
       "        0.4425 ,  0.44375,  0.445  ,  0.44625,  0.4475 ,  0.44875,\n",
       "        0.45   ,  0.45125,  0.4525 ,  0.45375,  0.455  ,  0.45625,\n",
       "        0.4575 ,  0.45875,  0.46   ,  0.46125,  0.4625 ,  0.46375,\n",
       "        0.465  ,  0.46625,  0.4675 ,  0.46875,  0.47   ,  0.47125,\n",
       "        0.4725 ,  0.47375,  0.475  ,  0.47625,  0.4775 ,  0.47875,\n",
       "        0.48   ,  0.48125,  0.4825 ,  0.48375,  0.485  ,  0.48625,\n",
       "        0.4875 ,  0.48875,  0.49   ,  0.49125,  0.4925 ,  0.49375,\n",
       "        0.495  ,  0.49625,  0.4975 ,  0.49875, -0.5    , -0.49875,\n",
       "       -0.4975 , -0.49625, -0.495  , -0.49375, -0.4925 , -0.49125,\n",
       "       -0.49   , -0.48875, -0.4875 , -0.48625, -0.485  , -0.48375,\n",
       "       -0.4825 , -0.48125, -0.48   , -0.47875, -0.4775 , -0.47625,\n",
       "       -0.475  , -0.47375, -0.4725 , -0.47125, -0.47   , -0.46875,\n",
       "       -0.4675 , -0.46625, -0.465  , -0.46375, -0.4625 , -0.46125,\n",
       "       -0.46   , -0.45875, -0.4575 , -0.45625, -0.455  , -0.45375,\n",
       "       -0.4525 , -0.45125, -0.45   , -0.44875, -0.4475 , -0.44625,\n",
       "       -0.445  , -0.44375, -0.4425 , -0.44125, -0.44   , -0.43875,\n",
       "       -0.4375 , -0.43625, -0.435  , -0.43375, -0.4325 , -0.43125,\n",
       "       -0.43   , -0.42875, -0.4275 , -0.42625, -0.425  , -0.42375,\n",
       "       -0.4225 , -0.42125, -0.42   , -0.41875, -0.4175 , -0.41625,\n",
       "       -0.415  , -0.41375, -0.4125 , -0.41125, -0.41   , -0.40875,\n",
       "       -0.4075 , -0.40625, -0.405  , -0.40375, -0.4025 , -0.40125,\n",
       "       -0.4    , -0.39875, -0.3975 , -0.39625, -0.395  , -0.39375,\n",
       "       -0.3925 , -0.39125, -0.39   , -0.38875, -0.3875 , -0.38625,\n",
       "       -0.385  , -0.38375, -0.3825 , -0.38125, -0.38   , -0.37875,\n",
       "       -0.3775 , -0.37625, -0.375  , -0.37375, -0.3725 , -0.37125,\n",
       "       -0.37   , -0.36875, -0.3675 , -0.36625, -0.365  , -0.36375,\n",
       "       -0.3625 , -0.36125, -0.36   , -0.35875, -0.3575 , -0.35625,\n",
       "       -0.355  , -0.35375, -0.3525 , -0.35125, -0.35   , -0.34875,\n",
       "       -0.3475 , -0.34625, -0.345  , -0.34375, -0.3425 , -0.34125,\n",
       "       -0.34   , -0.33875, -0.3375 , -0.33625, -0.335  , -0.33375,\n",
       "       -0.3325 , -0.33125, -0.33   , -0.32875, -0.3275 , -0.32625,\n",
       "       -0.325  , -0.32375, -0.3225 , -0.32125, -0.32   , -0.31875,\n",
       "       -0.3175 , -0.31625, -0.315  , -0.31375, -0.3125 , -0.31125,\n",
       "       -0.31   , -0.30875, -0.3075 , -0.30625, -0.305  , -0.30375,\n",
       "       -0.3025 , -0.30125, -0.3    , -0.29875, -0.2975 , -0.29625,\n",
       "       -0.295  , -0.29375, -0.2925 , -0.29125, -0.29   , -0.28875,\n",
       "       -0.2875 , -0.28625, -0.285  , -0.28375, -0.2825 , -0.28125,\n",
       "       -0.28   , -0.27875, -0.2775 , -0.27625, -0.275  , -0.27375,\n",
       "       -0.2725 , -0.27125, -0.27   , -0.26875, -0.2675 , -0.26625,\n",
       "       -0.265  , -0.26375, -0.2625 , -0.26125, -0.26   , -0.25875,\n",
       "       -0.2575 , -0.25625, -0.255  , -0.25375, -0.2525 , -0.25125,\n",
       "       -0.25   , -0.24875, -0.2475 , -0.24625, -0.245  , -0.24375,\n",
       "       -0.2425 , -0.24125, -0.24   , -0.23875, -0.2375 , -0.23625,\n",
       "       -0.235  , -0.23375, -0.2325 , -0.23125, -0.23   , -0.22875,\n",
       "       -0.2275 , -0.22625, -0.225  , -0.22375, -0.2225 , -0.22125,\n",
       "       -0.22   , -0.21875, -0.2175 , -0.21625, -0.215  , -0.21375,\n",
       "       -0.2125 , -0.21125, -0.21   , -0.20875, -0.2075 , -0.20625,\n",
       "       -0.205  , -0.20375, -0.2025 , -0.20125, -0.2    , -0.19875,\n",
       "       -0.1975 , -0.19625, -0.195  , -0.19375, -0.1925 , -0.19125,\n",
       "       -0.19   , -0.18875, -0.1875 , -0.18625, -0.185  , -0.18375,\n",
       "       -0.1825 , -0.18125, -0.18   , -0.17875, -0.1775 , -0.17625,\n",
       "       -0.175  , -0.17375, -0.1725 , -0.17125, -0.17   , -0.16875,\n",
       "       -0.1675 , -0.16625, -0.165  , -0.16375, -0.1625 , -0.16125,\n",
       "       -0.16   , -0.15875, -0.1575 , -0.15625, -0.155  , -0.15375,\n",
       "       -0.1525 , -0.15125, -0.15   , -0.14875, -0.1475 , -0.14625,\n",
       "       -0.145  , -0.14375, -0.1425 , -0.14125, -0.14   , -0.13875,\n",
       "       -0.1375 , -0.13625, -0.135  , -0.13375, -0.1325 , -0.13125,\n",
       "       -0.13   , -0.12875, -0.1275 , -0.12625, -0.125  , -0.12375,\n",
       "       -0.1225 , -0.12125, -0.12   , -0.11875, -0.1175 , -0.11625,\n",
       "       -0.115  , -0.11375, -0.1125 , -0.11125, -0.11   , -0.10875,\n",
       "       -0.1075 , -0.10625, -0.105  , -0.10375, -0.1025 , -0.10125,\n",
       "       -0.1    , -0.09875, -0.0975 , -0.09625, -0.095  , -0.09375,\n",
       "       -0.0925 , -0.09125, -0.09   , -0.08875, -0.0875 , -0.08625,\n",
       "       -0.085  , -0.08375, -0.0825 , -0.08125, -0.08   , -0.07875,\n",
       "       -0.0775 , -0.07625, -0.075  , -0.07375, -0.0725 , -0.07125,\n",
       "       -0.07   , -0.06875, -0.0675 , -0.06625, -0.065  , -0.06375,\n",
       "       -0.0625 , -0.06125, -0.06   , -0.05875, -0.0575 , -0.05625,\n",
       "       -0.055  , -0.05375, -0.0525 , -0.05125, -0.05   , -0.04875,\n",
       "       -0.0475 , -0.04625, -0.045  , -0.04375, -0.0425 , -0.04125,\n",
       "       -0.04   , -0.03875, -0.0375 , -0.03625, -0.035  , -0.03375,\n",
       "       -0.0325 , -0.03125, -0.03   , -0.02875, -0.0275 , -0.02625,\n",
       "       -0.025  , -0.02375, -0.0225 , -0.02125, -0.02   , -0.01875,\n",
       "       -0.0175 , -0.01625, -0.015  , -0.01375, -0.0125 , -0.01125,\n",
       "       -0.01   , -0.00875, -0.0075 , -0.00625, -0.005  , -0.00375,\n",
       "       -0.0025 , -0.00125])"
      ]
     },
     "execution_count": 25,
     "metadata": {},
     "output_type": "execute_result"
    }
   ],
   "source": [
    "np.fft.fft(arr_signal, n=None)\n",
    "np.fft.fftfreq(len(arr_signal))"
   ]
  },
  {
   "cell_type": "code",
   "execution_count": 14,
   "metadata": {},
   "outputs": [],
   "source": [
    "omega = 50000\n",
    "Lockin = []\n",
    "for i in range(len(arr_time)):\n",
    "    LockinValue = [arr_signal[i]*np.sin(omega*arr_time[i])]\n",
    "    Lockin.append(LockinValue)"
   ]
  },
  {
   "cell_type": "code",
   "execution_count": 17,
   "metadata": {},
   "outputs": [
    {
     "data": {
      "text/plain": [
       "[<matplotlib.lines.Line2D at 0x7fb2ee4c7e50>]"
      ]
     },
     "execution_count": 17,
     "metadata": {},
     "output_type": "execute_result"
    },
    {
     "data": {
      "image/png": "[encoded data removed]",
      "text/plain": [
       "<Figure size 432x288 with 1 Axes>"
      ]
     },
     "metadata": {
      "needs_background": "light"
     },
     "output_type": "display_data"
    }
   ],
   "source": [
    "plt.plot(df.time, Lockin)"
   ]
  },
  {
   "cell_type": "code",
   "execution_count": null,
   "metadata": {},
   "outputs": [],
   "source": []
  }
 ],
 "metadata": {
  "kernelspec": {
   "display_name": "Python 3",
   "language": "python",
   "name": "python3"
  },
  "language_info": {
   "codemirror_mode": {
    "name": "ipython",
    "version": 3
   },
   "file_extension": ".py",
   "mimetype": "text/x-python",
   "name": "python",
   "nbconvert_exporter": "python",
   "pygments_lexer": "ipython3",
   "version": "3.8.10"
  },
  "orig_nbformat": 4
 },
 "nbformat": 4,
 "nbformat_minor": 2
}
