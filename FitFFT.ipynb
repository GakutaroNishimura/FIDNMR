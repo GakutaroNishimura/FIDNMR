{
 "cells": [
  {
   "cell_type": "code",
   "execution_count": 4,
   "metadata": {},
   "outputs": [],
   "source": [
    "import numpy as np\n",
    "import pandas as pd\n",
    "import matplotlib.pyplot as plt\n",
    "import ROOT"
   ]
  },
  {
   "cell_type": "code",
   "execution_count": 5,
   "metadata": {},
   "outputs": [],
   "source": [
    "DirPath = \"./Data/2023/0721/test09/\"\n",
    "DataPath = DirPath + \"10/ftdata2.csv\"\n",
    "\n",
    "df = pd.read_csv(DataPath, names=[\"freq\", \"amplitude\"])"
   ]
  },
  {
   "cell_type": "code",
   "execution_count": 11,
   "metadata": {},
   "outputs": [
    {
     "name": "stdout",
     "output_type": "stream",
     "text": [
      "          freq  amplitude\n",
      "0         0.00   2.635650\n",
      "2512  18398.40   1.643330\n",
      "2421  17731.90   0.586090\n",
      "431    3156.74   0.570604\n",
      "2537  18581.50   0.569067\n",
      "2427  17775.90   0.527150\n",
      "2511  18391.10   0.509161\n",
      "2423  17746.60   0.455869\n",
      "2554  18706.10   0.449764\n",
      "2575  18859.90   0.396688\n"
     ]
    }
   ],
   "source": [
    "df_s = df.sort_values(by = \"amplitude\", ascending=False)\n",
    "#df_r = df_s.reset_index(drop=True)\n",
    "print(df_s[:10])"
   ]
  },
  {
   "cell_type": "code",
   "execution_count": 13,
   "metadata": {},
   "outputs": [
    {
     "data": {
      "text/plain": [
       "1.64333"
      ]
     },
     "execution_count": 13,
     "metadata": {},
     "output_type": "execute_result"
    }
   ],
   "source": [
    "df.amplitude[2512]"
   ]
  },
  {
   "cell_type": "code",
   "execution_count": null,
   "metadata": {},
   "outputs": [],
   "source": [
    "gr = ROOT.TGraph(len(df.freq), df.freq, df.amplitude)\n",
    "gr_fitBG = ROOT.TF1(\"f1\", \"pol2\", )"
   ]
  },
  {
   "cell_type": "code",
   "execution_count": null,
   "metadata": {},
   "outputs": [],
   "source": [
    "exclude_indices = [2511, 2512, 2513]\n",
    "\n",
    "# フィッティングを実行（除外したいデータ点はRejectPointで除外）\n",
    "for i in range(len(df.freq)):\n",
    "    if i in exclude_indices:\n",
    "        gr_fit.RejectPoint(i)\n",
    "    else:\n",
    "        gr.SetPoint(i, df.freq[i], df.amplitude[i])"
   ]
  },
  {
   "cell_type": "code",
   "execution_count": null,
   "metadata": {},
   "outputs": [],
   "source": [
    "gr = ROOT.TGraph(len(df.freq), np.array(df.freq), np.array(df.amplitude))\n",
    "gr.Draw(\"APL\")\n",
    "gr.SetMarkerStyle(7)\n",
    "gr.SetMarkerSize(10)\n",
    "c1 = ROOT.gROOT.FindObject(\"c1\")\n",
    "c1.Draw(\"same\")"
   ]
  }
 ],
 "metadata": {
  "kernelspec": {
   "display_name": "Python 3",
   "language": "python",
   "name": "python3"
  },
  "language_info": {
   "codemirror_mode": {
    "name": "ipython",
    "version": 3
   },
   "file_extension": ".py",
   "mimetype": "text/x-python",
   "name": "python",
   "nbconvert_exporter": "python",
   "pygments_lexer": "ipython3",
   "version": "3.8.10"
  },
  "orig_nbformat": 4
 },
 "nbformat": 4,
 "nbformat_minor": 2
}
