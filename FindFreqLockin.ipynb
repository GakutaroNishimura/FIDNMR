{
 "cells": [
  {
   "cell_type": "code",
   "execution_count": 1,
   "metadata": {},
   "outputs": [
    {
     "name": "stdout",
     "output_type": "stream",
     "text": [
      "Welcome to JupyROOT 6.26/06\n"
     ]
    }
   ],
   "source": [
    "import Config as conf\n",
    "import Lockin\n",
    "import FileInfo\n",
    "import matplotlib.pyplot as plt\n",
    "%matplotlib qt\n",
    "import numpy as np\n",
    "import math\n",
    "import os\n",
    "import ROOT\n",
    "import time\n",
    "import pandas as pd"
   ]
  },
  {
   "cell_type": "code",
   "execution_count": 2,
   "metadata": {},
   "outputs": [
    {
     "name": "stdout",
     "output_type": "stream",
     "text": [
      "/home/nishi_gaku/FIDNMR//Data/2023/0614/129Xe_069A_19kHz/run1/floatData.txt\n"
     ]
    },
    {
     "name": "stderr",
     "output_type": "stream",
     "text": [
      "QStandardPaths: XDG_RUNTIME_DIR not set, defaulting to '/tmp/runtime-nishi_gaku'\n"
     ]
    }
   ],
   "source": [
    "Bin_or_Float = conf.Bin_or_Float\n",
    "\n",
    "if Bin_or_Float == \"Float\":\n",
    "    print(conf.DataPath)\n",
    "    df = pd.read_table(conf.DataPath, sep=\" \", names = [\"time\", \"signal\"])\n",
    "    Time = np.array(df.time, dtype=\"d\")\n",
    "    V_mean = np.array(df.signal, dtype=\"d\")\n",
    "\n",
    "else:\n",
    "    #StartNo = FileInfo.GetMaxFileNumber() + 1\n",
    "    #StopNo  = conf.NumOfDataAcquisition\n",
    "    file_list = os.listdir(conf.DataPath)\n",
    "    data_list = []\n",
    "    print(conf.DataPath)\n",
    "\n",
    "    for i in range(len(file_list)):\n",
    "        if \".bin\" == os.path.splitext(file_list[i])[1]:\n",
    "            data_list.append(os.path.join(conf.DataPath, file_list[i]))\n",
    "\n",
    "    print(len(data_list))\n",
    "\n",
    "    for i in range(len(data_list)):\n",
    "        BinaryFileName = data_list[i]\n",
    "        V, Time = Lockin.Lockin(BinaryFileName)\n",
    "        #V = np.array([V[i] + 0.05*np.exp(-100*Time[i]) for i in range(len(V))])\n",
    "        #print(\"read %d th data\" %i)\n",
    "        if i == 0:\n",
    "            #plt.plot(Time, V, \".\")\n",
    "            #plt.show()\n",
    "            V_mean = np.array([0.0 for i in range(len(V))])\n",
    "        V_mean += V\n",
    "\n",
    "    V_mean = V_mean/len(data_list)\n"
   ]
  },
  {
   "cell_type": "code",
   "execution_count": 33,
   "metadata": {},
   "outputs": [],
   "source": [
    "def FindFreqDeltaLockin(StartF, EndF, Naverage, Time, V_mean):\n",
    "    FreqList = []\n",
    "    deltaList = []\n",
    "    LockinList = []\n",
    "    \n",
    "    deltaRange = np.linspace(0., 2*math.pi, 10)\n",
    "    #deltaRange = np.linspace(0.9*math.pi, 1.1*math.pi, 50)\n",
    "    for f0 in range(StartF, EndF, 10):\n",
    "        for delta in deltaRange:\n",
    "            LockinValue = 0\n",
    "            for i in range(Naverage):\n",
    "                LockinValue += V_mean[i]*math.cos(2*math.pi*f0*Time[i]+delta)\n",
    "                if i == Naverage-1:\n",
    "                    FreqList.append(f0)\n",
    "                    deltaList.append(delta)\n",
    "                    LockinList.append(LockinValue)\n",
    "                    \n",
    "    return FreqList, deltaList, LockinList\n",
    "\n",
    "def FindFreqLockin(StartF, EndF, dFreq, Naverage, Time, V_mean):\n",
    "    FreqList = []\n",
    "    LockinList = []\n",
    "    for f0 in range(StartF, EndF, dFreq):\n",
    "        LockinValue = 0\n",
    "        LockinValue0 = 0\n",
    "        LockinValue90 = 0\n",
    "        for i in range(Naverage):\n",
    "            t0 = Time[0]\n",
    "            #LockinValue += V_mean[i]*math.cos(2*math.pi*f0*Time[i]+math.pi)\n",
    "            #LockinValue += V_mean[i]*math.cos(2*math.pi*f0*Time[i])\n",
    "            LockinValue0 += V_mean[i]*math.cos(2*math.pi*f0*Time[i])\n",
    "            #LockinValue90 += V_mean[i]*math.cos(2*math.pi*f0*Time[i]+math.pi/2)\n",
    "        t1 = Time[i]\n",
    "        LockinValue = math.sqrt(LockinValue0**2 + LockinValue90**2)\n",
    "        FreqList.append(f0)\n",
    "        #LockinList.append(LockinValue/(t1-t0))\n",
    "        LockinList.append(LockinValue0/(t1-t0))\n",
    "                    \n",
    "    return FreqList, LockinList\n",
    "\n",
    "def FindDeltaLockin(f0, dDelta, Naverage, Time, V_mean):\n",
    "    FreqList = []\n",
    "    deltaList = []\n",
    "    LockinList = []\n",
    "    \n",
    "    deltaRange = np.linspace(0., 2*math.pi, dDelta)\n",
    "    for delta in deltaRange:\n",
    "        LockinValue = 0\n",
    "        for i in range(Naverage):\n",
    "            t0 = Time[0]\n",
    "            LockinValue += V_mean[i]*math.cos(2*math.pi*f0*Time[i]+delta)\n",
    "            #LockinValue += V_mean[i]*math.cos(2*math.pi*f0*Time[i])\n",
    "            if i == Naverage-1:\n",
    "                t1 = Time[i]\n",
    "                deltaList.append(delta)\n",
    "                LockinList.append(LockinValue/(t1-t0))\n",
    "                    \n",
    "    return deltaList, LockinList\n",
    "\n",
    "def FinalLockin(f0, Delta, Nstart, Nend, Naverage, Time, V_mean):\n",
    "    aveTime = []\n",
    "    LockinList = []\n",
    "    start_time = time.time()\n",
    "    for  j in range(int((Nend-Nstart)/Naverage)):\n",
    "        LockinValue = 0\n",
    "        LockinValue0 = 0\n",
    "        LockinValue90 = 0\n",
    "        for i in range(j*Naverage, (j+1)*Naverage):\n",
    "            t0 = Time[j*Naverage]\n",
    "            t1 = Time[(j+1)*Naverage-1]\n",
    "            t_ave = (t0+t1)/2\n",
    "            LockinValue0 += V_mean[i]*math.cos(2*math.pi*f0*Time[i]+Delta)\n",
    "            #LockinValue90 += V_mean[i]*math.cos(2*math.pi*f0*Time[i]+Delta+math.pi/2)\n",
    "        LockinValue = math.sqrt(LockinValue0**2 + LockinValue90**2)\n",
    "        aveTime.append(t_ave)\n",
    "        #LockinList.append(LockinValue/(t1-t0))\n",
    "        LockinList.append(LockinValue0/(t1-t0))\n",
    "    end_time = time.time()\n",
    "    execution_time = end_time - start_time\n",
    "    print(\"Execution time normal:\", execution_time, \"seconds\")\n",
    "    return aveTime, LockinList\n",
    "\n"
   ]
  },
  {
   "cell_type": "code",
   "execution_count": 80,
   "metadata": {},
   "outputs": [
    {
     "name": "stdout",
     "output_type": "stream",
     "text": [
      "       freq     delta     Lockin\n",
      "923   18920  2.094395  10.304263\n",
      "904   18900  2.792527  10.303978\n",
      "998   18990  5.585054  10.293603\n",
      "1017  19010  4.886922  10.292291\n",
      "838   18830  5.585054  10.291966\n",
      "810   18810  0.000000  10.290073\n",
      "819   18810  6.283185  10.290073\n",
      "1083  19080  2.094395  10.259039\n",
      "1102  19100  1.396263  10.256138\n",
      "744   18740  2.792527  10.255416\n"
     ]
    },
    {
     "data": {
      "text/plain": [
       "\"\\nfig = plt.figure()\\nax = fig.add_subplot(projection='3d')\\nax.scatter(FreqList, deltaList, LockinList)\\nplt.show()\\n\""
      ]
     },
     "execution_count": 80,
     "metadata": {},
     "output_type": "execute_result"
    }
   ],
   "source": [
    "FreqList, deltaList, LockinList = FindFreqDeltaLockin(18000, 20000, 1000, Time, V_mean)\n",
    "df = pd.DataFrame({\"freq\": FreqList, \"delta\":deltaList, \"Lockin\": LockinList})\n",
    "df_s = df.sort_values(by = \"Lockin\", ascending=False)\n",
    "print(df_s[:10])\n",
    "\"\"\"\n",
    "fig = plt.figure()\n",
    "ax = fig.add_subplot(projection='3d')\n",
    "ax.scatter(FreqList, deltaList, LockinList)\n",
    "plt.show()\n",
    "\"\"\""
   ]
  },
  {
   "cell_type": "code",
   "execution_count": 12,
   "metadata": {},
   "outputs": [],
   "source": [
    "fig = plt.figure()\n",
    "ax = fig.add_subplot(projection='3d')\n",
    "ax.scatter(FreqList, deltaList, LockinList)\n",
    "plt.show()"
   ]
  },
  {
   "cell_type": "code",
   "execution_count": 50,
   "metadata": {},
   "outputs": [
    {
     "data": {
      "text/plain": [
       "'\\nfig = plt.figure()\\nax = fig.add_subplot()\\nax.scatter(FreqList, LockinList)\\nplt.show()\\n'"
      ]
     },
     "execution_count": 50,
     "metadata": {},
     "output_type": "execute_result"
    }
   ],
   "source": [
    "#Naverage = len(Time)\n",
    "Naverage = 100000\n",
    "\n",
    "FreqList, LockinList = FindFreqLockin(18000, 20000, 1, Naverage, Time, V_mean)\n",
    "\"\"\"\n",
    "fig = plt.figure()\n",
    "ax = fig.add_subplot()\n",
    "ax.scatter(FreqList, LockinList)\n",
    "plt.show()\n",
    "\"\"\""
   ]
  },
  {
   "cell_type": "code",
   "execution_count": 53,
   "metadata": {},
   "outputs": [
    {
     "name": "stderr",
     "output_type": "stream",
     "text": [
      "Warning in <TCanvas::Constructor>: Deleting canvas with same name: c1\n"
     ]
    },
    {
     "data": {
      "image/png": "[encoded data removed]",
      "text/plain": [
       "<IPython.core.display.Image object>"
      ]
     },
     "metadata": {},
     "output_type": "display_data"
    }
   ],
   "source": [
    "c1 = ROOT.TCanvas(\"c1\", \"c1\", 600, 600)\n",
    "gr = ROOT.TGraph(len(FreqList), np.array(FreqList, dtype=\"d\"), np.array(LockinList))\n",
    "gr.Draw(\"APL\")\n",
    "gr.SetMarkerStyle(7)\n",
    "gr.SetMarkerSize(10)\n",
    "gr.SetTitle(\"average = %d\"%Naverage)\n",
    "gr.GetXaxis().SetTitle(\"f_s [Hz]\")\n",
    "#c1 = ROOT.gROOT.FindObject(\"c1\")\n",
    "c1.Draw(\"same\")\n",
    "#c1.Update()"
   ]
  },
  {
   "cell_type": "code",
   "execution_count": 54,
   "metadata": {},
   "outputs": [
    {
     "name": "stdout",
     "output_type": "stream",
     "text": [
      "      freq        Lockin\n",
      "956  18956  38729.395852\n",
      "955  18955  38467.840593\n",
      "957  18957  38294.663580\n",
      "954  18954  37503.899779\n",
      "958  18958  37189.424749\n",
      "953  18953  35851.515566\n",
      "959  18959  35458.103974\n",
      "952  18952  33544.329523\n",
      "960  18960  33162.090317\n",
      "951  18951  30634.654825\n"
     ]
    }
   ],
   "source": [
    "df = pd.DataFrame({\"freq\": FreqList, \"Lockin\": LockinList})\n",
    "df_s = df.sort_values(by = \"Lockin\", ascending=False)\n",
    "print(df_s[:10])"
   ]
  },
  {
   "cell_type": "code",
   "execution_count": 55,
   "metadata": {},
   "outputs": [],
   "source": [
    "#Naverage = 100000\n",
    "DeltaList, LockinList = FindDeltaLockin(18955, 1000, Naverage, Time, V_mean)"
   ]
  },
  {
   "cell_type": "code",
   "execution_count": 56,
   "metadata": {},
   "outputs": [
    {
     "name": "stderr",
     "output_type": "stream",
     "text": [
      "Warning in <TCanvas::Constructor>: Deleting canvas with same name: c1\n"
     ]
    },
    {
     "data": {
      "image/png": "[encoded data removed]",
      "text/plain": [
       "<IPython.core.display.Image object>"
      ]
     },
     "metadata": {},
     "output_type": "display_data"
    }
   ],
   "source": [
    "c1 = ROOT.TCanvas(\"c1\", \"c1\", 600, 600)\n",
    "gr = ROOT.TGraph(len(DeltaList), np.array(DeltaList), np.array(LockinList))\n",
    "gr.Draw(\"APL\")\n",
    "gr.SetMarkerStyle(7)\n",
    "gr.SetMarkerSize(10)\n",
    "gr.SetTitle(\"average = %d\"%Naverage)\n",
    "gr.GetXaxis().SetTitle(\"delta [rad]\")\n",
    "#c1 = ROOT.gROOT.FindObject(\"c1\")\n",
    "c1.Draw(\"same\")\n",
    "#c1.Update()"
   ]
  },
  {
   "cell_type": "code",
   "execution_count": 57,
   "metadata": {},
   "outputs": [
    {
     "name": "stdout",
     "output_type": "stream",
     "text": [
      "       delta        Lockin\n",
      "34  0.213842  39349.926991\n",
      "33  0.207553  39349.569431\n",
      "35  0.220132  39348.727972\n",
      "32  0.201263  39347.655306\n",
      "36  0.226421  39345.972420\n",
      "31  0.194974  39344.184691\n",
      "37  0.232711  39341.660446\n",
      "30  0.188684  39339.157725\n",
      "38  0.239000  39335.792220\n",
      "29  0.182395  39332.574604\n"
     ]
    }
   ],
   "source": [
    "df = pd.DataFrame({\"delta\": DeltaList, \"Lockin\": LockinList})\n",
    "df_s = df.sort_values(by = \"Lockin\", ascending=False)\n",
    "print(df_s[:10])"
   ]
  },
  {
   "cell_type": "code",
   "execution_count": 58,
   "metadata": {},
   "outputs": [
    {
     "name": "stdout",
     "output_type": "stream",
     "text": [
      "Execution time normal: 0.10460162162780762 seconds\n"
     ]
    },
    {
     "data": {
      "text/plain": [
       "'\\nfig = plt.figure()\\nax = fig.add_subplot()\\nax.plot(aveTime, LockinList, label = \"average = %d\"%Naverage)\\n#ax.scatter(aveTime, LockinList)\\nax.grid()\\nax.legend()\\nplt.show()\\n'"
      ]
     },
     "execution_count": 58,
     "metadata": {},
     "output_type": "execute_result"
    }
   ],
   "source": [
    "Naverage = 1000\n",
    "#aveTime, LockinList = FinalLockin(18955, 0.157237, 0, 150000, Naverage, Time, V_mean) #0616/131Xe_234_19kHz/run2\n",
    "aveTime, LockinList = FinalLockin(18955, 0.213842, 0, 150000, Naverage, Time, V_mean) #0616/131Xe_234_19kHz/run2\n",
    "#aveTime, LockinList = FinalLockin(18920, 2.094395, 0, 150000, Naverage, Time, V_mean) #0614/129Xe_069_19kHz/run2\n",
    "#aveTime, LockinList = FinalLockin(18920, 0, 0, 150000, Naverage, Time, V_mean) #0614/129Xe_069_19kHz/run2\n",
    "#aveTime, LockinList = FinalLockin(18920, 0.5*math.pi, 0, 50000, Naverage, Time, V_mean) #0614/129Xe_069_19kHz/run2\n",
    "\"\"\"\n",
    "fig = plt.figure()\n",
    "ax = fig.add_subplot()\n",
    "ax.plot(aveTime, LockinList, label = \"average = %d\"%Naverage)\n",
    "#ax.scatter(aveTime, LockinList)\n",
    "ax.grid()\n",
    "ax.legend()\n",
    "plt.show()\n",
    "\"\"\""
   ]
  },
  {
   "cell_type": "code",
   "execution_count": 59,
   "metadata": {},
   "outputs": [
    {
     "name": "stderr",
     "output_type": "stream",
     "text": [
      "Warning in <TCanvas::Constructor>: Deleting canvas with same name: c1\n"
     ]
    },
    {
     "data": {
      "image/png": "[encoded data removed]",
      "text/plain": [
       "<IPython.core.display.Image object>"
      ]
     },
     "metadata": {},
     "output_type": "display_data"
    }
   ],
   "source": [
    "c1 = ROOT.TCanvas(\"c1\", \"c1\", 600, 600)\n",
    "gr = ROOT.TGraph(len(aveTime), np.array(aveTime), np.array(LockinList))\n",
    "#gr_fit = ROOT.TF1(\"f\", \"[0]*expo(-[1]*x)\", aveTime[0], aveTime[10])\n",
    "#gr_fit.SetParameters(60000., 25.)\n",
    "#gr.Fit(gr_fit, \"QR\")\n",
    "#par = [gr_fit.GetParameter(k) for k in range(gr_fit.GetNpar())]\n",
    "gr.Draw(\"APL\")\n",
    "gr.SetMarkerStyle(7)\n",
    "gr.SetMarkerSize(10)\n",
    "gr.SetTitle(\"average = %d\"%Naverage)\n",
    "gr.GetXaxis().SetTitle(\"time [s]\")\n",
    "#gr_fit.Draw(\"same\")\n",
    "#c1 = ROOT.gROOT.FindObject(\"c1\")\n",
    "c1.Draw(\"same\")\n",
    "#c1.Update()"
   ]
  },
  {
   "cell_type": "code",
   "execution_count": 4,
   "metadata": {},
   "outputs": [
    {
     "data": {
      "image/png": "[encoded data removed]",
      "text/plain": [
       "<IPython.core.display.Image object>"
      ]
     },
     "metadata": {},
     "output_type": "display_data"
    }
   ],
   "source": [
    "c1 = ROOT.TCanvas(\"c1\", \"c1\", 600, 600)\n",
    "gr = ROOT.TGraph(len(Time), np.array(Time), np.array(V_mean))\n",
    "gr.Draw(\"APL\")\n",
    "gr.SetMarkerStyle(7)\n",
    "gr.SetMarkerSize(10)\n",
    "#gr.SetTitle(\"average = %d\"%Naverage)\n",
    "gr.GetXaxis().SetTitle(\"time [s]\")\n",
    "#c1 = ROOT.gROOT.FindObject(\"c1\")\n",
    "c1.Draw(\"same\")\n",
    "#c1.Update()"
   ]
  }
 ],
 "metadata": {
  "kernelspec": {
   "display_name": "Python 3",
   "language": "python",
   "name": "python3"
  },
  "language_info": {
   "codemirror_mode": {
    "name": "ipython",
    "version": 3
   },
   "file_extension": ".py",
   "mimetype": "text/x-python",
   "name": "python",
   "nbconvert_exporter": "python",
   "pygments_lexer": "ipython3",
   "version": "3.10.6"
  },
  "orig_nbformat": 4
 },
 "nbformat": 4,
 "nbformat_minor": 2
}
