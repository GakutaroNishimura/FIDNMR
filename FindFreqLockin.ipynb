{
 "cells": [
  {
   "cell_type": "code",
   "execution_count": 54,
   "metadata": {},
   "outputs": [
    {
     "name": "stderr",
     "output_type": "stream",
     "text": [
      "QStandardPaths: XDG_RUNTIME_DIR not set, defaulting to '/tmp/runtime-nishi_gaku'\n"
     ]
    }
   ],
   "source": [
    "import Config as conf\n",
    "import Lockin\n",
    "import FileInfo\n",
    "import matplotlib.pyplot as plt\n",
    "%matplotlib qt\n",
    "import numpy as np\n",
    "import math\n",
    "import os"
   ]
  },
  {
   "cell_type": "code",
   "execution_count": 61,
   "metadata": {},
   "outputs": [
    {
     "name": "stdout",
     "output_type": "stream",
     "text": [
      "[122, 351, 206, 96, 190, 183, 176, 77, 125, 68, 299, 334, 129, 191, 5, 133, 55, 8, 124, 88, 34, 273, 84, 106, 309, 62, 278, 222, 180, 168, 132, 304, 338, 164, 155, 270, 220, 175, 60, 279, 1, 179, 79, 356, 250, 263, 85, 24, 193, 292, 297, 343, 245, 26, 45, 111, 333, 313, 117, 319, 244, 25, 196, 339, 136, 157, 205, 46, 150, 142, 285, 120, 325, 161, 71, 172, 241, 295, 290, 328, 314, 226, 255, 266, 332, 92, 323, 342, 268, 354, 347, 90, 335, 89, 208, 91, 126, 10, 317, 36, 178, 69, 53, 43, 54, 239, 30, 254, 329, 302, 40, 158, 42, 252, 112, 243, 340, 181, 324, 186, 19, 360, 114, 233, 312, 224, 73, 102, 200, 289, 337, 214, 108, 94, 232, 240, 348, 159, 39, 321, 63, 4, 311, 353, 271, 140, 2, 358, 282, 83, 330, 103, 284, 134, 260, 350, 184, 98, 269, 265, 149, 231, 141, 47, 66, 104, 357, 23, 105, 6, 229, 58, 22, 27, 216, 218, 52, 81, 251, 20, 315, 286, 320, 107, 86, 14, 95, 238, 41, 213, 267, 116, 174, 217, 152, 72, 51, 113, 207, 167, 118, 275, 18, 173, 80, 38, 87, 151, 236, 230, 153, 219, 203, 305, 204, 28, 198, 110, 144, 170, 128, 287, 115, 212, 355, 15, 57, 50, 310, 137, 225, 187, 21, 202, 109, 130, 228, 7, 49, 143, 227, 248, 127, 327, 169, 121, 316, 70, 56, 75, 123, 276, 235, 318, 331, 145, 349, 188, 44, 11, 177, 156, 291, 160, 93, 3, 352, 163, 300, 346, 277, 281, 306, 148, 48, 13, 162, 221, 138, 359, 97, 234, 209, 165, 344, 171, 326, 307, 280, 12, 242, 237, 322, 100, 74, 32, 101, 61, 17, 189, 33, 272, 247, 296, 274, 199, 135, 195, 16, 259, 262, 211, 29, 194, 65, 249, 192, 341, 215, 139, 185, 147, 182, 31, 253, 257, 197, 78, 35, 264, 298, 67, 154, 131, 166, 9, 246, 82, 146, 210, 256, 37, 288, 294, 76, 64, 336, 223, 258, 308, 59, 301, 345, 119, 293, 201, 283, 261, 99, 303]\n"
     ]
    }
   ],
   "source": [
    "StartNo = FileInfo.GetMaxFileNumber() + 1\n",
    "StopNo  = conf.NumOfDataAcquisition\n",
    "\n",
    "file_list = os.listdir(conf.DataPath)\n",
    "data_list = []\n",
    "\n",
    "for i in range(len(file_list)):\n",
    "    if \".bin\" == os.path.splitext(file_list[i])[1]:\n",
    "        data_list.append(os.path.join(conf.DataPath, file_list[i]))\n",
    "\n",
    "for i in range(len(data_list)):\n",
    "    BinaryFileName = data_list[i]\n",
    "    V, Time = Lockin.Lockin(BinaryFileName)\n",
    "    #print(\"read %d th data\" %i)\n",
    "    if i == 0:\n",
    "        #plt.plot(Time, V, \".\")\n",
    "        #plt.show()\n",
    "        V_mean = np.array([0.0 for i in range(len(V))])\n",
    "    V_mean += V"
   ]
  },
  {
   "cell_type": "code",
   "execution_count": 68,
   "metadata": {},
   "outputs": [],
   "source": [
    "def FindFreqDeltaLockin(StartF, EndF, Naverage, Time, V_mean):\n",
    "    FreqList = []\n",
    "    deltaList = []\n",
    "    LockinList = []\n",
    "    \n",
    "    deltaRange = np.linspace(0., 2*math.pi, 100)\n",
    "    #deltaRange = np.linspace(0.9*math.pi, 1.1*math.pi, 50)\n",
    "    for f0 in range(StartF, EndF, 1):\n",
    "        for delta in deltaRange:\n",
    "            LockinValue = 0\n",
    "            for i in range(Naverage):\n",
    "                LockinValue += V_mean[i]*math.cos(2*math.pi*f0*Time[i]+delta)\n",
    "                if i == Naverage-1:\n",
    "                    FreqList.append(f0)\n",
    "                    deltaList.append(delta)\n",
    "                    LockinList.append(LockinValue)\n",
    "                    \n",
    "    return FreqList, deltaList, LockinList\n",
    "\n",
    "def FindFreqLockin(StartF, EndF, Naverage, Time, V_mean):\n",
    "    FreqList = []\n",
    "    LockinList = []\n",
    "    \n",
    "    for f0 in range(StartF, EndF, 1):\n",
    "        LockinValue = 0\n",
    "        for i in range(Naverage):\n",
    "            LockinValue += V_mean[i]*math.cos(2*math.pi*f0*Time[i]+math.pi)\n",
    "            #LockinValue += V_mean[i]*math.cos(2*math.pi*f0*Time[i])\n",
    "            if i == Naverage-1:\n",
    "                FreqList.append(f0)\n",
    "                LockinList.append(LockinValue)\n",
    "                    \n",
    "    return FreqList, LockinList\n",
    "\n",
    "def FindDeltaLockin(f0, Naverage, Time, V_mean):\n",
    "    FreqList = []\n",
    "    deltaList = []\n",
    "    LockinList = []\n",
    "    \n",
    "    deltaRange = np.linspace(0., 2*math.pi, 50)\n",
    "    for delta in deltaRange:\n",
    "        LockinValue = 0\n",
    "        for i in range(Naverage):\n",
    "            LockinValue += V_mean[i]*math.cos(2*math.pi*f0*Time[i]+delta)\n",
    "            #LockinValue += V_mean[i]*math.cos(2*math.pi*f0*Time[i])\n",
    "            if i == Naverage-1:\n",
    "                deltaList.append(delta)\n",
    "                LockinList.append(LockinValue)\n",
    "                    \n",
    "    return deltaList, LockinList"
   ]
  },
  {
   "cell_type": "code",
   "execution_count": 69,
   "metadata": {},
   "outputs": [
    {
     "data": {
      "text/plain": [
       "\"\\nfig = plt.figure()\\nax = fig.add_subplot(projection='3d')\\nax.scatter(FreqList, deltaList, LockinList)\\nplt.show()\\n\""
      ]
     },
     "execution_count": 69,
     "metadata": {},
     "output_type": "execute_result"
    }
   ],
   "source": [
    "FreqList, deltaList, LockinList = FindFreqDeltaLockin(17000, 19000, 1000, Time, V_mean)\n",
    "\"\"\"\n",
    "fig = plt.figure()\n",
    "ax = fig.add_subplot(projection='3d')\n",
    "ax.scatter(FreqList, deltaList, LockinList)\n",
    "plt.show()\n",
    "\"\"\""
   ]
  },
  {
   "cell_type": "code",
   "execution_count": 70,
   "metadata": {},
   "outputs": [],
   "source": [
    "import pandas as pd\n",
    "df = pd.DataFrame({\"freq\": FreqList, \"delta\":deltaList, \"Lockin\": LockinList})"
   ]
  },
  {
   "cell_type": "code",
   "execution_count": 71,
   "metadata": {},
   "outputs": [
    {
     "data": {
      "text/html": [
       "<div>\n",
       "<style scoped>\n",
       "    .dataframe tbody tr th:only-of-type {\n",
       "        vertical-align: middle;\n",
       "    }\n",
       "\n",
       "    .dataframe tbody tr th {\n",
       "        vertical-align: top;\n",
       "    }\n",
       "\n",
       "    .dataframe thead th {\n",
       "        text-align: right;\n",
       "    }\n",
       "</style>\n",
       "<table border=\"1\" class=\"dataframe\">\n",
       "  <thead>\n",
       "    <tr style=\"text-align: right;\">\n",
       "      <th></th>\n",
       "      <th>freq</th>\n",
       "      <th>delta</th>\n",
       "      <th>Lockin</th>\n",
       "    </tr>\n",
       "  </thead>\n",
       "  <tbody>\n",
       "    <tr>\n",
       "      <th>127085</th>\n",
       "      <td>18270</td>\n",
       "      <td>5.394654</td>\n",
       "      <td>1002.336058</td>\n",
       "    </tr>\n",
       "    <tr>\n",
       "      <th>127582</th>\n",
       "      <td>18275</td>\n",
       "      <td>5.204254</td>\n",
       "      <td>1002.320115</td>\n",
       "    </tr>\n",
       "    <tr>\n",
       "      <th>126588</th>\n",
       "      <td>18265</td>\n",
       "      <td>5.585054</td>\n",
       "      <td>1002.319007</td>\n",
       "    </tr>\n",
       "    <tr>\n",
       "      <th>126290</th>\n",
       "      <td>18262</td>\n",
       "      <td>5.711987</td>\n",
       "      <td>1002.286749</td>\n",
       "    </tr>\n",
       "    <tr>\n",
       "      <th>126787</th>\n",
       "      <td>18267</td>\n",
       "      <td>5.521587</td>\n",
       "      <td>1002.282337</td>\n",
       "    </tr>\n",
       "    <tr>\n",
       "      <th>127880</th>\n",
       "      <td>18278</td>\n",
       "      <td>5.077321</td>\n",
       "      <td>1002.271448</td>\n",
       "    </tr>\n",
       "    <tr>\n",
       "      <th>128079</th>\n",
       "      <td>18280</td>\n",
       "      <td>5.013855</td>\n",
       "      <td>1002.271195</td>\n",
       "    </tr>\n",
       "    <tr>\n",
       "      <th>126091</th>\n",
       "      <td>18260</td>\n",
       "      <td>5.775453</td>\n",
       "      <td>1002.268947</td>\n",
       "    </tr>\n",
       "    <tr>\n",
       "      <th>127383</th>\n",
       "      <td>18273</td>\n",
       "      <td>5.267721</td>\n",
       "      <td>1002.265921</td>\n",
       "    </tr>\n",
       "    <tr>\n",
       "      <th>125793</th>\n",
       "      <td>18257</td>\n",
       "      <td>5.902386</td>\n",
       "      <td>1002.258147</td>\n",
       "    </tr>\n",
       "  </tbody>\n",
       "</table>\n",
       "</div>"
      ],
      "text/plain": [
       "         freq     delta       Lockin\n",
       "127085  18270  5.394654  1002.336058\n",
       "127582  18275  5.204254  1002.320115\n",
       "126588  18265  5.585054  1002.319007\n",
       "126290  18262  5.711987  1002.286749\n",
       "126787  18267  5.521587  1002.282337\n",
       "127880  18278  5.077321  1002.271448\n",
       "128079  18280  5.013855  1002.271195\n",
       "126091  18260  5.775453  1002.268947\n",
       "127383  18273  5.267721  1002.265921\n",
       "125793  18257  5.902386  1002.258147"
      ]
     },
     "execution_count": 71,
     "metadata": {},
     "output_type": "execute_result"
    }
   ],
   "source": [
    "df_s = df.sort_values(by = \"Lockin\", ascending=False)\n",
    "df_s[:10]"
   ]
  },
  {
   "cell_type": "code",
   "execution_count": 48,
   "metadata": {},
   "outputs": [
    {
     "data": {
      "text/plain": [
       "0.02040823030858104"
      ]
     },
     "execution_count": 48,
     "metadata": {},
     "output_type": "execute_result"
    }
   ],
   "source": [
    "(3.205707-math.pi)/math.pi"
   ]
  },
  {
   "cell_type": "code",
   "execution_count": null,
   "metadata": {},
   "outputs": [],
   "source": []
  }
 ],
 "metadata": {
  "kernelspec": {
   "display_name": "Python 3",
   "language": "python",
   "name": "python3"
  },
  "language_info": {
   "codemirror_mode": {
    "name": "ipython",
    "version": 3
   },
   "file_extension": ".py",
   "mimetype": "text/x-python",
   "name": "python",
   "nbconvert_exporter": "python",
   "pygments_lexer": "ipython3",
   "version": "3.10.6"
  },
  "orig_nbformat": 4
 },
 "nbformat": 4,
 "nbformat_minor": 2
}
