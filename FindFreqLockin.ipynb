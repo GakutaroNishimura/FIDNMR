{
 "cells": [
  {
   "cell_type": "code",
   "execution_count": 1,
   "metadata": {},
   "outputs": [
    {
     "name": "stdout",
     "output_type": "stream",
     "text": [
      "Welcome to JupyROOT 6.22/08\n"
     ]
    }
   ],
   "source": [
    "import Config as conf\n",
    "import Lockin\n",
    "import FileInfo\n",
    "import matplotlib.pyplot as plt\n",
    "#%matplotlib qt\n",
    "import numpy as np\n",
    "import math\n",
    "import os\n",
    "import ROOT\n",
    "import time\n",
    "import pandas as pd"
   ]
  },
  {
   "cell_type": "code",
   "execution_count": null,
   "metadata": {},
   "outputs": [],
   "source": [
    "Bin_or_Float = conf.Bin_or_Float\n",
    "\n",
    "print(\"aa\")\n",
    "if Bin_or_Float == \"Float\":\n",
    "    print(conf.DataName)\n",
    "    df = pd.read_table(conf.DataName, sep=\" \", names = [\"time\", \"signal\"])\n",
    "    Time = np.array(df.time, dtype=\"d\")\n",
    "    V_mean = np.array(df.signal, dtype=\"d\")\n",
    "\n",
    "else:\n",
    "    #StartNo = FileInfo.GetMaxFileNumber() + 1\n",
    "    #StopNo  = conf.NumOfDataAcquisition\n",
    "    file_list = os.listdir(conf.DataPath)\n",
    "    data_list = []\n",
    "    print(conf.DataPath)\n",
    "\n",
    "    for i in range(len(file_list)):\n",
    "        if \".bin\" == os.path.splitext(file_list[i])[1]:\n",
    "            data_list.append(os.path.join(conf.DataPath, file_list[i]))\n",
    "\n",
    "    print(len(data_list))\n",
    "\n",
    "    for i in range(len(data_list)):\n",
    "        BinaryFileName = data_list[i]\n",
    "        V, Time = Lockin.Lockin(BinaryFileName)\n",
    "        #V = np.array([V[i] + 0.05*np.exp(-100*Time[i]) for i in range(len(V))])\n",
    "        #print(\"read %d th data\" %i)\n",
    "        if i == 0:\n",
    "            #plt.plot(Time, V, \".\")\n",
    "            #plt.show()\n",
    "            V_mean = np.array([0.0 for i in range(len(V))])\n",
    "        V_mean += V\n",
    "\n",
    "    V_mean = V_mean/len(data_list)\n"
   ]
  },
  {
   "cell_type": "code",
   "execution_count": 6,
   "metadata": {},
   "outputs": [],
   "source": [
    "df = pd.read_csv(conf.DataName, sep=\",\", names = [\"time\", \"signal\"])\n",
    "Time = np.array(df.time, dtype=\"d\")\n",
    "V_mean = np.array(df.signal, dtype=\"d\")"
   ]
  },
  {
   "cell_type": "code",
   "execution_count": 2,
   "metadata": {},
   "outputs": [],
   "source": [
    "def FindFreqDeltaLockin(StartF, EndF, Naverage, Time, V_mean):\n",
    "    FreqList = []\n",
    "    deltaList = []\n",
    "    LockinList = []\n",
    "    \n",
    "    deltaRange = np.linspace(0., 2*math.pi, 10)\n",
    "    #deltaRange = np.linspace(0.9*math.pi, 1.1*math.pi, 50)\n",
    "    for f0 in range(StartF, EndF, 10):\n",
    "        for delta in deltaRange:\n",
    "            LockinValue = 0\n",
    "            for i in range(Naverage):\n",
    "                LockinValue += V_mean[i]*math.cos(2*math.pi*f0*Time[i]+delta)\n",
    "                if i == Naverage-1:\n",
    "                    FreqList.append(f0)\n",
    "                    deltaList.append(delta)\n",
    "                    LockinList.append(LockinValue)\n",
    "                    \n",
    "    return FreqList, deltaList, LockinList\n",
    "\n",
    "def FindFreqLockin(StartF, EndF, dFreq, Naverage, Time, V_mean):\n",
    "    FreqList = []\n",
    "    LockinList = []\n",
    "    #for f0 in range(StartF, EndF, dFreq):\n",
    "    for f0 in np.arange(StartF, EndF, dFreq):\n",
    "        LockinValue = 0\n",
    "        LockinValue0 = 0\n",
    "        LockinValue90 = 0\n",
    "        for i in range(Naverage):\n",
    "            t0 = Time[0]\n",
    "            #LockinValue += V_mean[i]*math.cos(2*math.pi*f0*Time[i]+math.pi)\n",
    "            #LockinValue += V_mean[i]*math.cos(2*math.pi*f0*Time[i])\n",
    "            LockinValue0 += V_mean[i]*math.cos(2*math.pi*f0*Time[i])\n",
    "            #LockinValue90 += V_mean[i]*math.cos(2*math.pi*f0*Time[i]+math.pi/2)\n",
    "        t1 = Time[i]\n",
    "        LockinValue = math.sqrt(LockinValue0**2 + LockinValue90**2)\n",
    "        FreqList.append(f0)\n",
    "        #LockinList.append(LockinValue/(t1-t0))\n",
    "        LockinList.append(LockinValue0/(t1-t0))\n",
    "                    \n",
    "    return FreqList, LockinList\n",
    "\n",
    "def FindDeltaLockin(f0, dDelta, Naverage, Time, V_mean):\n",
    "    FreqList = []\n",
    "    deltaList = []\n",
    "    LockinList = []\n",
    "    \n",
    "    deltaRange = np.linspace(0., 2*math.pi, dDelta)\n",
    "    for delta in deltaRange:\n",
    "        LockinValue = 0\n",
    "        for i in range(Naverage):\n",
    "            t0 = Time[0]\n",
    "            LockinValue += V_mean[i]*math.cos(2*math.pi*f0*Time[i]+delta)\n",
    "            #LockinValue += V_mean[i]*math.cos(2*math.pi*f0*Time[i])\n",
    "            if i == Naverage-1:\n",
    "                t1 = Time[i]\n",
    "                deltaList.append(delta)\n",
    "                LockinList.append(LockinValue/(t1-t0))\n",
    "                    \n",
    "    return deltaList, LockinList\n",
    "\n",
    "def FinalLockin(f0, Delta, Nstart, Nend, Naverage, Time, V_mean):\n",
    "    aveTime = []\n",
    "    LockinList = []\n",
    "    start_time = time.time()\n",
    "    for  j in range(int((Nend-Nstart)/Naverage)):\n",
    "        LockinValue = 0\n",
    "        LockinValue0 = 0\n",
    "        LockinValue90 = 0\n",
    "        for i in range(j*Naverage, (j+1)*Naverage):\n",
    "            t0 = Time[j*Naverage]\n",
    "            t1 = Time[(j+1)*Naverage-1]\n",
    "            t_ave = (t0+t1)/2\n",
    "            LockinValue0 += V_mean[i]*math.cos(2*math.pi*f0*Time[i]+Delta)\n",
    "            #LockinValue90 += V_mean[i]*math.cos(2*math.pi*f0*Time[i]+Delta+math.pi/2)\n",
    "        #LockinValue = math.sqrt(LockinValue0**2 + LockinValue90**2)\n",
    "        aveTime.append(t_ave)\n",
    "        #LockinList.append(LockinValue/(t1-t0))\n",
    "        LockinList.append(LockinValue0/(t1-t0))\n",
    "    end_time = time.time()\n",
    "    execution_time = end_time - start_time\n",
    "    print(\"Execution time normal:\", execution_time, \"seconds\")\n",
    "    return aveTime, LockinList\n",
    "\n"
   ]
  },
  {
   "cell_type": "code",
   "execution_count": 4,
   "metadata": {},
   "outputs": [
    {
     "name": "stdout",
     "output_type": "stream",
     "text": [
      "       freq     delta     Lockin\n",
      "911   18910  0.698132  18.451882\n",
      "1005  19000  3.490659  18.434614\n",
      "826   18820  4.188790  18.421862\n",
      "939   18930  6.283185  18.414988\n",
      "930   18930  0.000000  18.414988\n",
      "1024  19020  2.792527  18.395121\n",
      "845   18840  3.490659  18.387673\n",
      "892   18890  1.396263  18.378967\n",
      "1090  19090  0.000000  18.370126\n",
      "1099  19090  6.283185  18.370126\n"
     ]
    },
    {
     "data": {
      "text/plain": [
       "\"\\nfig = plt.figure()\\nax = fig.add_subplot(projection='3d')\\nax.scatter(FreqList, deltaList, LockinList)\\nplt.show()\\n\""
      ]
     },
     "execution_count": 4,
     "metadata": {},
     "output_type": "execute_result"
    }
   ],
   "source": [
    "FreqList, deltaList, LockinList = FindFreqDeltaLockin(18000, 20000, 1000, Time, V_mean)\n",
    "df = pd.DataFrame({\"freq\": FreqList, \"delta\":deltaList, \"Lockin\": LockinList})\n",
    "df_s = df.sort_values(by = \"Lockin\", ascending=False)\n",
    "print(df_s[:10])\n",
    "\"\"\"\n",
    "fig = plt.figure()\n",
    "ax = fig.add_subplot(projection='3d')\n",
    "ax.scatter(FreqList, deltaList, LockinList)\n",
    "plt.show()\n",
    "\"\"\""
   ]
  },
  {
   "cell_type": "code",
   "execution_count": 12,
   "metadata": {},
   "outputs": [],
   "source": [
    "fig = plt.figure()\n",
    "ax = fig.add_subplot(projection='3d')\n",
    "ax.scatter(FreqList, deltaList, LockinList)\n",
    "plt.show()"
   ]
  },
  {
   "cell_type": "code",
   "execution_count": 7,
   "metadata": {},
   "outputs": [
    {
     "data": {
      "text/plain": [
       "'\\nfig = plt.figure()\\nax = fig.add_subplot()\\nax.scatter(FreqList, LockinList)\\nplt.show()\\n'"
      ]
     },
     "execution_count": 7,
     "metadata": {},
     "output_type": "execute_result"
    }
   ],
   "source": [
    "#Naverage = len(Time)\n",
    "FreqDeltaNaverage = len(Time)\n",
    "\n",
    "FreqList, LockinList = FindFreqLockin(18300, 19000, 0.1, FreqDeltaNaverage, Time, V_mean)\n",
    "#FreqList, LockinList = FindFreqLockin(18990, 19050, 0.1, FreqDeltaNaverage, Time, V_mean)\n",
    "\"\"\"\n",
    "fig = plt.figure()\n",
    "ax = fig.add_subplot()\n",
    "ax.scatter(FreqList, LockinList)\n",
    "plt.show()\n",
    "\"\"\""
   ]
  },
  {
   "cell_type": "code",
   "execution_count": 8,
   "metadata": {},
   "outputs": [
    {
     "name": "stderr",
     "output_type": "stream",
     "text": [
      "Warning in <TCanvas::Constructor>: Deleting canvas with same name: c1\n"
     ]
    },
    {
     "data": {
      "image/png": "[encoded data removed]",
      "text/plain": [
       "<IPython.core.display.Image object>"
      ]
     },
     "metadata": {},
     "output_type": "display_data"
    }
   ],
   "source": [
    "c1 = ROOT.TCanvas(\"c1\", \"c1\", 600, 600)\n",
    "gr = ROOT.TGraph(len(FreqList), np.array(FreqList, dtype=\"d\"), np.abs(np.array(LockinList)))\n",
    "#gr = ROOT.TGraph(len(FreqList), np.array(FreqList, dtype=\"d\"), np.array(LockinList))\n",
    "gr.Draw(\"APL\")\n",
    "gr.SetMarkerStyle(7)\n",
    "gr.SetMarkerSize(10)\n",
    "gr.SetTitle(\"average = %d\"%FreqDeltaNaverage)\n",
    "gr.GetXaxis().SetTitle(\"f_s [Hz]\")\n",
    "#c1 = ROOT.gROOT.FindObject(\"c1\")\n",
    "c1.Draw(\"same\")\n",
    "#c1.Update()"
   ]
  },
  {
   "cell_type": "code",
   "execution_count": 9,
   "metadata": {},
   "outputs": [
    {
     "name": "stdout",
     "output_type": "stream",
     "text": [
      "      freq        Lockin\n",
      "0  18396.7  27518.558643\n",
      "1  18396.8  27512.699134\n",
      "2  18396.6  27484.852702\n",
      "3  18396.9  27467.576916\n",
      "4  18396.5  27411.421878\n",
      "5  18397.0  27383.636662\n",
      "6  18396.4  27298.250721\n",
      "7  18397.1  27261.462912\n",
      "8  18396.3  27145.467741\n",
      "9  18397.2  27101.777331\n"
     ]
    }
   ],
   "source": [
    "df = pd.DataFrame({\"freq\": FreqList, \"Lockin\": np.abs(LockinList)})\n",
    "df_s = df.sort_values(by = \"Lockin\", ascending=False)\n",
    "df_r = df_s.reset_index(drop=True)\n",
    "F0 = df_r.freq[0]\n",
    "print(df_r[:10])"
   ]
  },
  {
   "cell_type": "code",
   "execution_count": 10,
   "metadata": {},
   "outputs": [],
   "source": [
    "#Naverage = 100000\n",
    "#F0 = 18900.68255588443\n",
    "#DeltaList, LockinList = FindDeltaLockin(18955, 1000, Naverage, Time, V_mean) #Naverage=166666\n",
    "DeltaList, LockinList = FindDeltaLockin(F0, 1000, FreqDeltaNaverage, Time, V_mean) #Naverage=1000"
   ]
  },
  {
   "cell_type": "code",
   "execution_count": 11,
   "metadata": {},
   "outputs": [
    {
     "name": "stderr",
     "output_type": "stream",
     "text": [
      "Warning in <TCanvas::Constructor>: Deleting canvas with same name: c1\n"
     ]
    },
    {
     "data": {
      "image/png": "[encoded data removed]",
      "text/plain": [
       "<IPython.core.display.Image object>"
      ]
     },
     "metadata": {},
     "output_type": "display_data"
    }
   ],
   "source": [
    "c1 = ROOT.TCanvas(\"c1\", \"c1\", 600, 600)\n",
    "gr = ROOT.TGraph(len(DeltaList), np.array(DeltaList), np.array(LockinList))\n",
    "gr.Draw(\"APL\")\n",
    "gr.SetMarkerStyle(7)\n",
    "gr.SetMarkerSize(10)\n",
    "gr.SetTitle(\"average = %d\"%FreqDeltaNaverage)\n",
    "gr.GetXaxis().SetTitle(\"delta [rad]\")\n",
    "#c1 = ROOT.gROOT.FindObject(\"c1\")\n",
    "c1.Draw(\"same\")\n",
    "#c1.Update()"
   ]
  },
  {
   "cell_type": "code",
   "execution_count": 12,
   "metadata": {},
   "outputs": [
    {
     "name": "stdout",
     "output_type": "stream",
     "text": [
      "0.2515789912784619\n"
     ]
    }
   ],
   "source": [
    "df = pd.DataFrame({\"delta\": DeltaList, \"Lockin\": LockinList})\n",
    "df_s = df.sort_values(by = \"Lockin\", ascending=False)\n",
    "df_r = df_s.reset_index(drop=True)\n",
    "Delta0 = df_r.delta[0]\n",
    "print(df_r.delta[0])"
   ]
  },
  {
   "cell_type": "code",
   "execution_count": 13,
   "metadata": {},
   "outputs": [],
   "source": [
    "df = pd.read_table(\"./Data/2023/0616/131Xe_100A_19kHz/run2/floatData.txt\", sep=\" \", names = [\"time\", \"signal\"])\n",
    "Time1 = np.array(df.time, dtype=\"d\")\n",
    "V_mean1 = np.array(df.signal, dtype=\"d\")"
   ]
  },
  {
   "cell_type": "code",
   "execution_count": 14,
   "metadata": {},
   "outputs": [
    {
     "name": "stdout",
     "output_type": "stream",
     "text": [
      "Execution time normal: 0.028477191925048828 seconds\n"
     ]
    },
    {
     "data": {
      "text/plain": [
       "'\\nfig = plt.figure()\\nax = fig.add_subplot()\\nax.plot(aveTime, LockinList, label = \"average = %d\"%Naverage)\\n#ax.scatter(aveTime, LockinList)\\nax.grid()\\nax.legend()\\nplt.show()\\n'"
      ]
     },
     "execution_count": 14,
     "metadata": {},
     "output_type": "execute_result"
    }
   ],
   "source": [
    "FinalNaverage = 1024\n",
    "\n",
    "#aveTime, LockinList = FinalLockin(18955, 0.157237, 0, 150000, Naverage, Time, V_mean) #0616/131Xe_234_19kHz/run2\n",
    "#aveTime, LockinList = FinalLockin(18955, 0.213842, 0, 150000, Naverage, Time, V_mean) #0616/131Xe_234_19kHz/run2\n",
    "#aveTime, LockinList = FinalLockin(18971, 0.0, 0, 150000, Naverage, Time, V_mean) #0616/131Xe_234_19kHz/run2\n",
    "aveTime, LockinList = FinalLockin(F0, Delta0, 0, len(Time)-1, FinalNaverage, Time, V_mean) #0614/129Xe_069_19kHz/run2\n",
    "#aveTime, LockinList = FinalLockin(18920, 0, 0, 150000, Naverage, Time, V_mean) #0614/129Xe_069_19kHz/run2\n",
    "#aveTime, LockinList = FinalLockin(18920, 0.5*math.pi, 0, 50000, Naverage, Time, V_mean) #0614/129Xe_069_19kHz/run2\n",
    "\n",
    "#aveTime1, LockinList1 = FinalLockin(F0, Delta0, 0, 150000, FinalNaverage, Time1, V_mean1)\n",
    "\"\"\"\n",
    "fig = plt.figure()\n",
    "ax = fig.add_subplot()\n",
    "ax.plot(aveTime, LockinList, label = \"average = %d\"%Naverage)\n",
    "#ax.scatter(aveTime, LockinList)\n",
    "ax.grid()\n",
    "ax.legend()\n",
    "plt.show()\n",
    "\"\"\""
   ]
  },
  {
   "cell_type": "code",
   "execution_count": 19,
   "metadata": {},
   "outputs": [
    {
     "data": {
      "image/png": "[encoded data removed]",
      "text/plain": [
       "<IPython.core.display.Image object>"
      ]
     },
     "metadata": {},
     "output_type": "display_data"
    }
   ],
   "source": [
    "#c1 = ROOT.TCanvas(\"c1\", \"c1\", 600, 400)\n",
    "#gr = ROOT.TGraph(len(aveTime), np.array(aveTime), np.array(LockinList))\n",
    "Ndata = len(aveTime)\n",
    "TError = [0.0 for i in range(Ndata)]\n",
    "LockinError = [1000.0 for i in range(Ndata)]\n",
    "gr = ROOT.TGraphErrors(Ndata, np.array(aveTime), np.array(LockinList), np.array(TError), np.array(LockinError))\n",
    "#gr = ROOT.TGraph(len(aveTime1), np.array(aveTime1), np.array(LockinList1))\n",
    "gr_fit = ROOT.TF1(\"f\", \"[0]*exp(-[1]*x)\", aveTime[0], aveTime[-1])\n",
    "gr_fit.SetParameters(66610., 14.67)\n",
    "gr.Fit(gr_fit, \"QR\")\n",
    "#par = [gr_fit.GetParameter(k) for k in range(gr_fit.GetNpar())]\n",
    "gr.Draw(\"APL\")\n",
    "gr.SetMarkerStyle(7)\n",
    "gr.SetMarkerSize(10)\n",
    "gr.SetTitle(\"average = %d\"%FinalNaverage)\n",
    "gr.GetXaxis().SetTitle(\"time [s]\")\n",
    "#gr_fit.Draw(\"same\")\n",
    "c1 = ROOT.gROOT.FindObject(\"c1\")\n",
    "ROOT.gStyle.SetOptFit(1)\n",
    "c1.Draw(\"same\")\n",
    "#c1.Update()"
   ]
  },
  {
   "cell_type": "code",
   "execution_count": 19,
   "metadata": {},
   "outputs": [
    {
     "name": "stderr",
     "output_type": "stream",
     "text": [
      "Warning in <TCanvas::Constructor>: Deleting canvas with same name: c1\n"
     ]
    },
    {
     "data": {
      "image/png": "[encoded data removed]",
      "text/plain": [
       "<IPython.core.display.Image object>"
      ]
     },
     "metadata": {},
     "output_type": "display_data"
    }
   ],
   "source": [
    "c1 = ROOT.TCanvas(\"c1\", \"c1\", 600, 600)\n",
    "gr = ROOT.TGraph(len(Time), np.array(Time), np.array(V_mean))\n",
    "gr.Draw(\"APL\")\n",
    "gr.SetMarkerStyle(7)\n",
    "gr.SetMarkerSize(10)\n",
    "#gr.SetTitle(\"average = %d\"%Naverage)\n",
    "gr.GetXaxis().SetTitle(\"time [s]\")\n",
    "#c1 = ROOT.gROOT.FindObject(\"c1\")\n",
    "c1.Draw(\"same\")\n",
    "#c1.Update()"
   ]
  },
  {
   "cell_type": "code",
   "execution_count": 19,
   "metadata": {},
   "outputs": [
    {
     "data": {
      "text/plain": [
       "6.283185307179586"
      ]
     },
     "execution_count": 19,
     "metadata": {},
     "output_type": "execute_result"
    }
   ],
   "source": [
    "a = df_s.delta[999]\n",
    "a"
   ]
  },
  {
   "cell_type": "code",
   "execution_count": null,
   "metadata": {},
   "outputs": [],
   "source": []
  }
 ],
 "metadata": {
  "kernelspec": {
   "display_name": "Python 3",
   "language": "python",
   "name": "python3"
  },
  "language_info": {
   "codemirror_mode": {
    "name": "ipython",
    "version": 3
   },
   "file_extension": ".py",
   "mimetype": "text/x-python",
   "name": "python",
   "nbconvert_exporter": "python",
   "pygments_lexer": "ipython3",
   "version": "3.8.10"
  },
  "orig_nbformat": 4
 },
 "nbformat": 4,
 "nbformat_minor": 2
}
